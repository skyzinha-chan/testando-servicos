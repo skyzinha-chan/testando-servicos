{
 "cells": [
  {
   "cell_type": "markdown",
   "metadata": {},
   "source": [
    "Limpeza (Opcional)\n",
    "Se você quiser limpar os recursos criados após o teste, siga estes passos:\n",
    "1. Excluir Buckets S3"
   ]
  },
  {
   "cell_type": "code",
   "execution_count": null,
   "metadata": {},
   "outputs": [],
   "source": [
    "# Esvaziar o bucket\n",
    "aws s3 rm s3://sprint4-grupo6-destino --recursive\n",
    "# Excluir o bucket\n",
    "aws s3 rb s3://sprint4-grupo6-destino --force\n",
    "\n",
    "# Esvaziar o bucket\n",
    "aws s3 rm s3://sprint4-grupo6-origem --recursive\n",
    "# Excluir o bucket\n",
    "aws s3 rb s3://sprint4-grupo6-origem --force\n",
    "\n",
    "# Esvaziar o bucket\n",
    "aws s3 rm s3://sprint4-layer-requests --recursive\n",
    "# Excluir o bucket\n",
    "aws s3 rb s3://sprint4-layer-requests --force\n",
    "\n",
    "# Esvaziar o bucket\n",
    "aws s3 rm s3://testes-terminais --recursive\n",
    "# Excluir o bucket\n",
    "aws s3 rb s3://testes-terminais --force\n",
    "\n",
    "\n",
    "# Esvaziar o bucket\n",
    "aws s3 rm s3://testes-terminais-ubuntu --recursive\n",
    "# Excluir o bucket\n",
    "aws s3 rb s3://testes-terminais-ubuntu --force"
   ]
  },
  {
   "cell_type": "code",
   "execution_count": null,
   "metadata": {},
   "outputs": [],
   "source": [
    "aws s3 rb s3://sprint4-grupo6-layers-talita --force\n",
    "aws s3 rb s3://sprint4-grupo6-lambda-code-talita --force\n",
    "aws s3 rb s3://sprint4-grupo6-imagens-talita --force"
   ]
  },
  {
   "cell_type": "markdown",
   "metadata": {},
   "source": [
    "2. Excluir Lambdas"
   ]
  },
  {
   "cell_type": "code",
   "execution_count": null,
   "metadata": {},
   "outputs": [],
   "source": [
    "aws lambda delete-function --function-name sprint4-grupo6-upload-lambda-talita"
   ]
  },
  {
   "cell_type": "markdown",
   "metadata": {},
   "source": [
    "3. Excluir API Gateway"
   ]
  },
  {
   "cell_type": "code",
   "execution_count": null,
   "metadata": {},
   "outputs": [],
   "source": [
    "aws apigateway get-rest-apis\n",
    "# Pegar o id da api\n",
    "aws apigateway delete-rest-api --rest-api-id <id-da-api>"
   ]
  },
  {
   "cell_type": "markdown",
   "metadata": {},
   "source": [
    "4. Excluir Roles e Políticas IAM"
   ]
  },
  {
   "cell_type": "code",
   "execution_count": null,
   "metadata": {},
   "outputs": [],
   "source": [
    "#a. Desanexar Políticas da Role\n",
    "aws iam detach-role-policy --role-name sprint4-grupo6-lambda-role-talita --policy-arn arn:aws:iam::961341525606:policy/sprint4-grupo6-lambda-policy-talita\n",
    "\n",
    "#b. Excluir a Role\n",
    "aws iam delete-role --role-name sprint4-grupo6-lambda-role-talita\n",
    "\n",
    "#c. Excluir a Política\n",
    "aws iam delete-policy --policy-arn arn:aws:iam::961341525606:policy/sprint4-grupo6-lambda-policy-talita"
   ]
  },
  {
   "cell_type": "markdown",
   "metadata": {},
   "source": [
    "5. Excluir Step Functions"
   ]
  },
  {
   "cell_type": "code",
   "execution_count": null,
   "metadata": {},
   "outputs": [],
   "source": [
    "# Obtenha o ARN da máquina de estados:\n",
    "aws stepfunctions list-state-machines\n",
    "\n",
    "# Exclua a máquina de estados:\n",
    "aws stepfunctions delete-state-machine --state-machine-arn <arn-da-maquina-de-estados>"
   ]
  },
  {
   "cell_type": "markdown",
   "metadata": {},
   "source": [
    "6. Excluir Logs do CloudWatch"
   ]
  },
  {
   "cell_type": "code",
   "execution_count": null,
   "metadata": {},
   "outputs": [],
   "source": [
    "aws logs delete-log-group --log-group-name <nome-do-grupo-de-logs> # No prompt windows."
   ]
  },
  {
   "cell_type": "markdown",
   "metadata": {},
   "source": [
    "7. Excluir Layers (Se Aplicável)"
   ]
  },
  {
   "cell_type": "code",
   "execution_count": null,
   "metadata": {},
   "outputs": [],
   "source": [
    "aws lambda delete-layer-version --layer-name <nome-da-layer> --version-number <numero-da-versao>"
   ]
  },
  {
   "cell_type": "markdown",
   "metadata": {},
   "source": [
    "Dicas Finais\n",
    "Verifique os Recursos:\n",
    "\n",
    "Antes de excluir, liste os recursos para confirmar os nomes e ARNs:"
   ]
  },
  {
   "cell_type": "code",
   "execution_count": null,
   "metadata": {},
   "outputs": [],
   "source": [
    "aws s3 ls\n",
    "aws lambda list-functions\n",
    "aws apigateway get-rest-apis\n",
    "aws iam list-roles\n",
    "aws iam list-policies\n",
    "aws stepfunctions list-state-machines\n",
    "aws logs describe-log-groups"
   ]
  }
 ],
 "metadata": {
  "language_info": {
   "name": "python"
  }
 },
 "nbformat": 4,
 "nbformat_minor": 2
}
