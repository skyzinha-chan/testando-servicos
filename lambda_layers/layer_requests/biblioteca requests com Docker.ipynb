{
 "cells": [
  {
   "cell_type": "markdown",
   "metadata": {},
   "source": [
    "# Passos para Criar uma Camada com Python 3.12 Usando Docker\n",
    "\n",
    "## Instale o Docker\n",
    "\n",
    "Certifique-se de que o Docker está instalado e em execução na sua máquina local. Você pode verificar isso executando:"
   ]
  },
  {
   "cell_type": "code",
   "execution_count": null,
   "metadata": {},
   "outputs": [],
   "source": [
    "docker - -version"
   ]
  },
  {
   "cell_type": "markdown",
   "metadata": {},
   "source": [
    "## Crie um Dockerfile\n",
    "\n",
    "Crie um arquivo chamado `Dockerfile` em um diretório vazio. O conteúdo do Dockerfile deve ser o seguinte:"
   ]
  },
  {
   "cell_type": "code",
   "execution_count": null,
   "metadata": {},
   "outputs": [],
   "source": [
    "# Use uma imagem base do Python 3.12\n",
    "FROM python:3.12-slim\n",
    "\n",
    "# Crie um diretório para a camada\n",
    "WORKDIR /layer\n",
    "\n",
    "# Crie um subdiretório para a biblioteca\n",
    "RUN mkdir python\n",
    "\n",
    "# Instale a biblioteca requests_toolbelt no diretório python\n",
    "RUN pip install requests_toolbelt -t python/\n",
    "\n",
    "# Instale o zip\n",
    "RUN apt-get update && apt-get install -y zip\n",
    "\n",
    "# Compacte o diretório python em um arquivo ZIP\n",
    "RUN zip -r my_lambda_layer.zip python"
   ]
  },
  {
   "cell_type": "markdown",
   "metadata": {},
   "source": [
    "## Crie um Diretório de Saída\n",
    "\n",
    "Crie um diretório onde o arquivo ZIP será salvo após a execução do contêiner:\n"
   ]
  },
  {
   "cell_type": "code",
   "execution_count": null,
   "metadata": {},
   "outputs": [],
   "source": [
    "mkdir output"
   ]
  },
  {
   "cell_type": "markdown",
   "metadata": {},
   "source": [
    "## Construa a Imagem Docker\n",
    "\n",
    "No terminal, navegue até o diretório onde você criou o `Dockerfile` e execute o seguinte comando para construir a imagem Docker:\n"
   ]
  },
  {
   "cell_type": "code",
   "execution_count": null,
   "metadata": {},
   "outputs": [],
   "source": [
    "docker build -t my_lambda_layer ."
   ]
  },
  {
   "cell_type": "markdown",
   "metadata": {},
   "source": [
    "## Execute o Contêiner Docker\n",
    "\n",
    "**(Prompt do Windows)** Execute o contêiner e copie o arquivo ZIP para o diretório de saída:\n"
   ]
  },
  {
   "cell_type": "code",
   "execution_count": null,
   "metadata": {},
   "outputs": [],
   "source": [
    "docker run --rm -v \"C:\\Users\\aishi\\Documentos\\Talita\\Udemy\\AWS\\Python - AWS\\aulas_Automacao\\scripts por aula\\módulo 1\\aula02\\bucket s3\\lambda-package\\criar layers\\layer requests\\output:/output\" my_lambda_layer sh -c \"cp my_lambda_layer.zip /output/my_lambda_layer.zip\""
   ]
  },
  {
   "cell_type": "markdown",
   "metadata": {},
   "source": [
    "## Verifique o Conteúdo do Arquivo ZIP\n",
    "\n",
    "O comando `unzip -l` é usado para listar o conteúdo de um arquivo ZIP sem descompactá-lo. Se você executar o comando a seguir, ele deve mostrar a lista de arquivos contidos no arquivo `my_lambda_layer.zip`:\n"
   ]
  },
  {
   "cell_type": "code",
   "execution_count": null,
   "metadata": {},
   "outputs": [],
   "source": [
    "unzip -l \"C:\\Users\\aishi\\Documentos\\Talita\\Udemy\\AWS\\Python - AWS\\aulas_Automacao\\scripts por aula\\módulo 1\\aula02\\bucket s3\\lambda-package\\criar layers\\layer requests\\output\\my_lambda_layer.zip\""
   ]
  },
  {
   "cell_type": "markdown",
   "metadata": {},
   "source": [
    "## Verifique o Arquivo ZIP\n",
    "\n",
    "Após a execução do contêiner, você deve encontrar o arquivo `my_lambda_layer.zip` no diretório `output`."
   ]
  },
  {
   "cell_type": "markdown",
   "metadata": {},
   "source": [
    "# Fazer o Upload da Layer para o AWS Lambda\n",
    "\n",
    "Agora você pode fazer o upload do arquivo ZIP que você criou para o AWS Lambda como uma Layer. Siga os passos abaixo:\n",
    "\n",
    "1. Acesse o console do AWS Lambda.\n",
    "2. No menu à esquerda, clique em **Layers**.\n",
    "3. Clique em **Create layer**.\n",
    "4. Preencha os campos:\n",
    "   - **Name**: Dê um nome à sua Layer (por exemplo, `requests-toolbelt-layer`).\n",
    "   - **Description**: (opcional) Adicione uma descrição.\n",
    "   - **Upload a .zip file**: Faça o upload do arquivo `my_lambda_layer.zip`.\n",
    "   - **Compatible runtimes**: Selecione a versão do Python que você está usando (por exemplo, Python 3.8 ou 3.9).\n",
    "5. Clique em **Create**.\n",
    "\n",
    "## Adicionar a Layer à Sua Função Lambda\n",
    "\n",
    "Após criar a Layer, você precisará adicioná-la à sua função Lambda:\n",
    "\n",
    "1. Vá para a sua função Lambda no console da AWS.\n",
    "2. Na seção **Layers**, clique em **Add a layer**.\n",
    "3. Selecione **Custom layers** e escolha a Layer que você acabou de criar.\n",
    "4. Clique em **Add**."
   ]
  },
  {
   "cell_type": "markdown",
   "metadata": {},
   "source": [
    "# Faça upload para um bucket s3 do arquivo zip\n"
   ]
  },
  {
   "cell_type": "code",
   "execution_count": null,
   "metadata": {},
   "outputs": [],
   "source": [
    "aws s3 cp \"C:\\Users\\aishi\\Documentos\\Talita\\Udemy\\AWS\\Python - AWS\\aulas_Automacao\\scripts por aula\\módulo 1\\aula02\\bucket s3\\lambda-package\\criar layers\\layer requests\\output\\my_lambda_layer.zip\" s3://sprint4-layer-requests/"
   ]
  }
 ],
 "metadata": {
  "kernelspec": {
   "display_name": "Python 3",
   "language": "python",
   "name": "python3"
  },
  "language_info": {
   "codemirror_mode": {
    "name": "ipython",
    "version": 3
   },
   "file_extension": ".py",
   "mimetype": "text/x-python",
   "name": "python",
   "nbconvert_exporter": "python",
   "pygments_lexer": "ipython3",
   "version": "3.13.2"
  }
 },
 "nbformat": 4,
 "nbformat_minor": 2
}
