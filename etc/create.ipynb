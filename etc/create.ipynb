{
 "cells": [
  {
   "cell_type": "markdown",
   "metadata": {},
   "source": [
    "## 1. Organização do Projeto\n",
    "\n",
    "### a. Jupyter Notebook (.ipynb)\n",
    "\n",
    "O Jupyter Notebook é ótimo para desenvolvimento iterativo e testes, pois permite executar células individualmente e visualizar os resultados imediatamente.\n",
    "\n",
    "No entanto, para produção ou automação, é recomendável migrar o código para arquivos `.py`.\n",
    "\n",
    "### b. Arquivos .py\n",
    "\n",
    "Você pode dividir o código em vários arquivos `.py` para organizar melhor o projeto. Por exemplo:\n",
    "\n",
    "- **infra.py**: Para criar recursos da AWS (buckets S3, políticas IAM, roles, etc.).\n",
    "- **lambda_functions.py**: Para o código das funções Lambda.\n",
    "- **api_gateway.py**: Para configurar o API Gateway.\n",
    "- **step_functions.py**: Para definir e criar a State Machine do Step Functions.\n",
    "- **main.py**: Para orquestrar a execução dos outros scripts."
   ]
  },
  {
   "cell_type": "markdown",
   "metadata": {},
   "source": [
    "Configurações iniciais"
   ]
  },
  {
   "cell_type": "code",
   "execution_count": 1,
   "metadata": {},
   "outputs": [
    {
     "name": "stdout",
     "output_type": "stream",
     "text": [
      "Note: you may need to restart the kernel to use updated packages.\n"
     ]
    },
    {
     "name": "stderr",
     "output_type": "stream",
     "text": [
      "ERROR: Exception:\n",
      "Traceback (most recent call last):\n",
      "  File \"C:\\Users\\aishi\\AppData\\Roaming\\Python\\Python313\\site-packages\\pip\\_internal\\cli\\base_command.py\", line 106, in _run_wrapper\n",
      "    status = _inner_run()\n",
      "  File \"C:\\Users\\aishi\\AppData\\Roaming\\Python\\Python313\\site-packages\\pip\\_internal\\cli\\base_command.py\", line 97, in _inner_run\n",
      "    return self.run(options, args)\n",
      "           ~~~~~~~~^^^^^^^^^^^^^^^\n",
      "  File \"C:\\Users\\aishi\\AppData\\Roaming\\Python\\Python313\\site-packages\\pip\\_internal\\cli\\req_command.py\", line 67, in wrapper\n",
      "    return func(self, options, args)\n",
      "  File \"C:\\Users\\aishi\\AppData\\Roaming\\Python\\Python313\\site-packages\\pip\\_internal\\commands\\install.py\", line 302, in run\n",
      "    options.use_user_site = decide_user_install(\n",
      "                            ~~~~~~~~~~~~~~~~~~~^\n",
      "        options.use_user_site,\n",
      "        ^^^^^^^^^^^^^^^^^^^^^^\n",
      "    ...<3 lines>...\n",
      "        isolated_mode=options.isolated_mode,\n",
      "        ^^^^^^^^^^^^^^^^^^^^^^^^^^^^^^^^^^^^\n",
      "    )\n",
      "    ^\n",
      "  File \"C:\\Users\\aishi\\AppData\\Roaming\\Python\\Python313\\site-packages\\pip\\_internal\\commands\\install.py\", line 719, in decide_user_install\n",
      "    if site_packages_writable(root=root_path, isolated=isolated_mode):\n",
      "       ~~~~~~~~~~~~~~~~~~~~~~^^^^^^^^^^^^^^^^^^^^^^^^^^^^^^^^^^^^^^^^\n",
      "  File \"C:\\Users\\aishi\\AppData\\Roaming\\Python\\Python313\\site-packages\\pip\\_internal\\commands\\install.py\", line 663, in site_packages_writable\n",
      "    return all(\n",
      "        test_writable_dir(d)\n",
      "        for d in set(get_lib_location_guesses(root=root, isolated=isolated))\n",
      "    )\n",
      "  File \"C:\\Users\\aishi\\AppData\\Roaming\\Python\\Python313\\site-packages\\pip\\_internal\\commands\\install.py\", line 664, in <genexpr>\n",
      "    test_writable_dir(d)\n",
      "    ~~~~~~~~~~~~~~~~~^^^\n",
      "  File \"C:\\Users\\aishi\\AppData\\Roaming\\Python\\Python313\\site-packages\\pip\\_internal\\utils\\filesystem.py\", line 87, in test_writable_dir\n",
      "    return _test_writable_dir_win(path)\n",
      "  File \"C:\\Users\\aishi\\AppData\\Roaming\\Python\\Python313\\site-packages\\pip\\_internal\\utils\\filesystem.py\", line 111, in _test_writable_dir_win\n",
      "    os.unlink(file)\n",
      "    ~~~~~~~~~^^^^^^\n",
      "PermissionError: [WinError 5] Acesso negado: 'c:\\\\Python313\\\\Lib\\\\site-packages\\\\accesstest_deleteme_fishfingers_custard_h6b7ua'\n"
     ]
    }
   ],
   "source": [
    "pip install boto3"
   ]
  },
  {
   "cell_type": "code",
   "execution_count": 2,
   "metadata": {},
   "outputs": [
    {
     "name": "stdout",
     "output_type": "stream",
     "text": [
      "Configurações definidas.\n"
     ]
    }
   ],
   "source": [
    "import boto3\n",
    "import json\n",
    "\n",
    "# Inicializa os clientes do Boto3\n",
    "iam_client = boto3.client('iam')\n",
    "s3_client = boto3.client('s3')\n",
    "lambda_client = boto3.client('lambda')\n",
    "\n",
    "# Configurações\n",
    "bucket_layers_name = 'sprint4-grupo6-layers'                # Bucket para armazenar as layers\n",
    "bucket_lambda_code_name = 'sprint4-grupo6-lambda-code'      # Bucket para armazenar o código das Lambdas\n",
    "bucket_imagens_name = 'sprint4-grupo6-imagens'              # Bucket para armazenar as imagens\n",
    "role_name = 'sprint4-grupo6-lambda-role'                    # Role para a execução das Lambdas\n",
    "policy_name = 'sprint4-grupo6-lambda-policy'                # Policy com permissões\n",
    "\n",
    "\n",
    "layer_name = 'sprint4-grupo6-requests-layer'                # Layer contendo a biblioteca requests\n",
    "lambda_function_name = 'sprint4-grupo6-upload-lambda'       # Função Lambda para upload\n",
    "region = 'us-east-1'                                        # Altere para a região desejada\n",
    "\n",
    "print(\"Configurações definidas.\")"
   ]
  },
  {
   "cell_type": "markdown",
   "metadata": {},
   "source": [
    "Criar o bucket S3"
   ]
  },
  {
   "cell_type": "code",
   "execution_count": 3,
   "metadata": {},
   "outputs": [
    {
     "name": "stdout",
     "output_type": "stream",
     "text": [
      "Erro ao criar o bucket para layers: Error when retrieving token from sso: Token has expired and refresh failed\n",
      "Erro ao criar o bucket para código das Lambdas: Error when retrieving token from sso: Token has expired and refresh failed\n",
      "Erro ao criar o bucket para imagens: Error when retrieving token from sso: Token has expired and refresh failed\n"
     ]
    }
   ],
   "source": [
    "# Criar o bucket para as layers\n",
    "try:\n",
    "    s3_client.create_bucket(Bucket=bucket_layers_name)\n",
    "    print(f\"Bucket para layers '{bucket_layers_name}' criado com sucesso.\")\n",
    "except Exception as e:\n",
    "    print(f\"Erro ao criar o bucket para layers: {e}\")\n",
    "\n",
    "# Criar o bucket para o código das Lambdas\n",
    "try:\n",
    "    s3_client.create_bucket(Bucket=bucket_lambda_code_name)\n",
    "    print(\n",
    "        f\"Bucket para código das Lambdas '{bucket_lambda_code_name}' criado com sucesso.\")\n",
    "except Exception as e:\n",
    "    print(f\"Erro ao criar o bucket para código das Lambdas: {e}\")\n",
    "\n",
    "# Criar o bucket para as imagens\n",
    "try:\n",
    "    s3_client.create_bucket(Bucket=bucket_imagens_name)\n",
    "    print(f\"Bucket para imagens '{bucket_imagens_name}' criado com sucesso.\")\n",
    "except Exception as e:\n",
    "    print(f\"Erro ao criar o bucket para imagens: {e}\")"
   ]
  },
  {
   "cell_type": "markdown",
   "metadata": {},
   "source": [
    "Criar a política IAM"
   ]
  },
  {
   "cell_type": "code",
   "execution_count": 4,
   "metadata": {},
   "outputs": [
    {
     "name": "stdout",
     "output_type": "stream",
     "text": [
      "Política definida.\n",
      "Erro ao criar a política: Error when retrieving token from sso: Token has expired and refresh failed\n"
     ]
    }
   ],
   "source": [
    "policy_document = {\n",
    "    \"Version\": \"2012-10-17\",\n",
    "    \"Statement\": [\n",
    "        # Permissões para CloudWatch Logs\n",
    "        {\n",
    "            \"Effect\": \"Allow\",\n",
    "            \"Action\": \"logs:CreateLogGroup\",\n",
    "            \"Resource\": f\"arn:aws:logs:{region}:961341525606:*\"\n",
    "        },\n",
    "        {\n",
    "            \"Effect\": \"Allow\",\n",
    "            \"Action\": [\"logs:CreateLogStream\", \"logs:PutLogEvents\"],\n",
    "            \"Resource\": [\n",
    "                f\"arn:aws:logs:{region}:961341525606:log-group:/aws/lambda/{lambda_function_name}:*\"\n",
    "            ]\n",
    "        },\n",
    "        # Permissões para S3\n",
    "        {\n",
    "            \"Effect\": \"Allow\",\n",
    "            \"Action\": [\n",
    "                \"s3:PutObject\",\n",
    "                \"s3:PutObjectAcl\",\n",
    "                \"s3:GetObject\",\n",
    "                \"s3:DeleteObject\",\n",
    "                \"s3:CopyObject\"\n",
    "            ],\n",
    "            \"Resource\": [\n",
    "                f\"arn:aws:s3:::{bucket_layers_name}/*\",\n",
    "                f\"arn:aws:s3:::{bucket_lambda_code_name}/*\",\n",
    "                f\"arn:aws:s3:::{bucket_imagens_name}/*\"\n",
    "            ]\n",
    "        },\n",
    "        # Permissões para Textract\n",
    "        {\n",
    "            \"Effect\": \"Allow\",\n",
    "            \"Action\": [\"textract:DetectDocumentText\"],\n",
    "            \"Resource\": \"*\"\n",
    "        },\n",
    "        # Permissões para Lambda\n",
    "        {\n",
    "            \"Effect\": \"Allow\",\n",
    "            \"Action\": [\"lambda:InvokeFunction\"],\n",
    "            \"Resource\": [\n",
    "                f\"arn:aws:lambda:{region}:961341525606:function:{lambda_function_name}\"\n",
    "            ]\n",
    "        },\n",
    "        # Permissões para Step Functions (se necessário)\n",
    "        {\n",
    "            \"Effect\": \"Allow\",\n",
    "            \"Action\": [\n",
    "                \"states:StartExecution\",\n",
    "                \"states:DescribeExecution\",\n",
    "                \"states:GetExecutionHistory\"\n",
    "            ],\n",
    "            \"Resource\": f\"arn:aws:states:{region}:961341525606:stateMachine:*\"\n",
    "        },\n",
    "        # Permissões para API Gateway (se necessário)\n",
    "        {\n",
    "            \"Effect\": \"Allow\",\n",
    "            \"Action\": [\n",
    "                \"apigateway:POST\",\n",
    "                \"apigateway:GET\"\n",
    "            ],\n",
    "            \"Resource\": f\"arn:aws:apigateway:{region}::/restapis/*\"\n",
    "        }\n",
    "    ]\n",
    "}\n",
    "\n",
    "print(\"Política definida.\")\n",
    "\n",
    "# Criar a política no IAM\n",
    "try:\n",
    "    response = iam_client.create_policy(\n",
    "        PolicyName=policy_name,\n",
    "        PolicyDocument=json.dumps(policy_document)\n",
    "    )\n",
    "    policy_arn = response['Policy']['Arn']\n",
    "    print(f\"Política '{policy_name}' criada com sucesso. ARN: {policy_arn}\")\n",
    "except Exception as e:\n",
    "    print(f\"Erro ao criar a política: {e}\")"
   ]
  },
  {
   "cell_type": "markdown",
   "metadata": {},
   "source": [
    "## Permissões para Outras Funções Lambda\n",
    "\n",
    "A política fornecida inclui permissões para invocar a função Lambda `sprint4-grupo6-bucketlambda`. Se você tiver outras funções Lambda, precisará adicionar suas permissões ao script."
   ]
  },
  {
   "cell_type": "markdown",
   "metadata": {},
   "source": [
    "Criar a role IAM"
   ]
  },
  {
   "cell_type": "code",
   "execution_count": null,
   "metadata": {},
   "outputs": [],
   "source": [
    "# Definir a política de confiança da role\n",
    "assume_role_policy_document = {\n",
    "    \"Version\": \"2012-10-17\",\n",
    "    \"Statement\": [\n",
    "        {\n",
    "            \"Effect\": \"Allow\",\n",
    "            \"Principal\": {\n",
    "                \"Service\": \"lambda.amazonaws.com\"\n",
    "            },\n",
    "            \"Action\": \"sts:AssumeRole\"\n",
    "        }\n",
    "    ]\n",
    "}\n",
    "\n",
    "# Criar a role\n",
    "try:\n",
    "    response = iam_client.create_role(\n",
    "        RoleName=role_name,\n",
    "        AssumeRolePolicyDocument=json.dumps(assume_role_policy_document))\n",
    "    role_arn = response['Role']['Arn']\n",
    "    print(f\"Role '{role_name}' criada com sucesso. ARN: {role_arn}\")\n",
    "except Exception as e:\n",
    "    print(f\"Erro ao criar a role: {e}\")"
   ]
  },
  {
   "cell_type": "markdown",
   "metadata": {},
   "source": [
    "Anexar a política à role"
   ]
  },
  {
   "cell_type": "code",
   "execution_count": null,
   "metadata": {},
   "outputs": [],
   "source": [
    "# Anexar a política à role\n",
    "try:\n",
    "    iam_client.attach_role_policy(\n",
    "        RoleName=role_name,\n",
    "        PolicyArn=policy_arn\n",
    "    )\n",
    "    print(f\"Política '{policy_name}' anexada à role '{role_name}'.\")\n",
    "except Exception as e:\n",
    "    print(f\"Erro ao anexar a política à role: {e}\")"
   ]
  },
  {
   "cell_type": "markdown",
   "metadata": {},
   "source": [
    "Fazer upload do arquivo ZIP para o bucket S3 - Fazer upload da layer para o S3"
   ]
  },
  {
   "cell_type": "code",
   "execution_count": null,
   "metadata": {},
   "outputs": [],
   "source": [
    "# Caminho para o arquivo ZIP da layer\n",
    "layer_zip_path = r'C:\\Users\\aishi\\Documentos\\Talita\\Estágio\\Sprint 4\\Bucket S3 API REST\\lambda_layers\\layer_requests\\output\\my_lambda_layer.zip'\n",
    "s3_layers_key = 'layers/my_lambda_layer.zip'\n",
    "\n",
    "# Fazer upload do arquivo ZIP para o bucket de layers\n",
    "try:\n",
    "    s3_client.upload_file(layer_zip_path, bucket_layers_name, s3_layers_key)\n",
    "    print(\n",
    "        f\"Arquivo '{layer_zip_path}' enviado para o bucket '{bucket_layers_name}' com a chave '{s3_layers_key}'.\")\n",
    "except Exception as e:\n",
    "    print(f\"Erro ao fazer upload do arquivo da layer: {e}\")"
   ]
  },
  {
   "cell_type": "markdown",
   "metadata": {},
   "source": [
    "Publicar a layer"
   ]
  },
  {
   "cell_type": "code",
   "execution_count": null,
   "metadata": {},
   "outputs": [],
   "source": [
    "# Publicar a layer\n",
    "try:\n",
    "    response = lambda_client.publish_layer_version(\n",
    "        LayerName=layer_name,\n",
    "        Content={\n",
    "            'S3Bucket': bucket_layers_name,\n",
    "            'S3Key': s3_layers_key\n",
    "        },\n",
    "        # Runtime atualizado para Python 3.12\n",
    "        CompatibleRuntimes=['python3.12'],\n",
    "        Description='Layer contendo a biblioteca requests'\n",
    "    )\n",
    "    layer_version_arn = response['LayerVersionArn']\n",
    "    print(\n",
    "        f\"Layer '{layer_name}' publicada com sucesso. ARN: {layer_version_arn}\")\n",
    "except Exception as e:\n",
    "    print(f\"Erro ao publicar a layer: {e}\")"
   ]
  },
  {
   "cell_type": "markdown",
   "metadata": {},
   "source": [
    "## Criar a Função Lambda\n",
    "\n",
    "Na AWS Lambda, o código da função precisa ser enviado como um arquivo ZIP (ou diretamente via editor de código no Console da AWS, mas isso é limitado). Se o seu código Lambda está em um arquivo `.py`, você precisa compactá-lo em um arquivo ZIP antes de enviá-lo para a Lambda. Vou explicar como fazer isso e como ajustar o script para enviar o arquivo ZIP.\n",
    "\n",
    "### Por que enviar um arquivo ZIP?\n",
    "\n",
    "A AWS Lambda exige que o código seja enviado em um pacote, que pode ser:\n",
    "\n",
    "- Um arquivo ZIP contendo o código e as dependências.\n",
    "- Um diretório de camadas (layers) para dependências compartilhadas.\n",
    "\n",
    "No seu caso, como você já tem uma layer para a biblioteca `requests`, basta compactar o arquivo `.py` da sua função Lambda em um arquivo ZIP.\n",
    "\n",
    "### Passo a passo para criar o arquivo ZIP\n",
    "\n",
    "#### Estrutura do arquivo ZIP:\n",
    "\n",
    "Se o seu código Lambda está em um arquivo chamado `lambda_function.py`, o arquivo ZIP deve conter esse arquivo na raiz.\n",
    "\n",
    "**Exemplo de estrutura:**\n",
    "```lambda_function.py```\n",
    "\n"
   ]
  },
  {
   "cell_type": "markdown",
   "metadata": {},
   "source": [
    "### Como compactar:\n",
    "\n",
    "#### No Windows\n",
    "\n",
    "Você pode usar o Explorador de Arquivos para compactar o arquivo:\n",
    "\n",
    "1. Selecione o arquivo `lambda_function.py`.\n",
    "2. Clique com o botão direito e escolha **\"Enviar para\" > \"Pasta compactada\"**.\n",
    "3. Um arquivo ZIP será criado no mesmo local.\n",
    "\n",
    "#### No terminal (Linux/Mac/WSL)\n",
    "\n",
    "Você pode usar o seguinte comando:\n",
    "\n",
    "```bash\n",
    "zip lambda_function.zip sua_lambda_function.py"
   ]
  },
  {
   "cell_type": "code",
   "execution_count": null,
   "metadata": {},
   "outputs": [],
   "source": [
    "zip s3_upload_lambda.zip s3_upload_lambda.py"
   ]
  },
  {
   "cell_type": "markdown",
   "metadata": {},
   "source": [
    "### Fazer upload do código da Lambda para o S3 "
   ]
  },
  {
   "cell_type": "code",
   "execution_count": null,
   "metadata": {},
   "outputs": [],
   "source": [
    "# Caminho para o arquivo ZIP do código da Lambda\n",
    "lambda_zip_path = r'C:\\Users\\aishi\\Documentos\\Talita\\Estágio\\Sprint 4\\Bucket S3 API REST\\app\\lambda_functions\\s3_upload_lambda.zip'\n",
    "s3_lambda_key = 'lambda/s3_upload_lambda.zip'  # Chave no S3\n",
    "\n",
    "# Fazer upload do código da Lambda para o bucket de código das Lambdas\n",
    "try:\n",
    "    s3_client.upload_file(\n",
    "        lambda_zip_path, bucket_lambda_code_name, s3_lambda_key)\n",
    "    print(\n",
    "        f\"Arquivo '{lambda_zip_path}' enviado para o bucket '{bucket_lambda_code_name}' com a chave '{s3_lambda_key}'.\")\n",
    "except Exception as e:\n",
    "    print(f\"Erro ao fazer upload do arquivo Lambda: {e}\")"
   ]
  },
  {
   "cell_type": "markdown",
   "metadata": {},
   "source": [
    "## Criar a função Lambda"
   ]
  },
  {
   "cell_type": "code",
   "execution_count": null,
   "metadata": {},
   "outputs": [],
   "source": [
    "# Criar a função Lambda\n",
    "try:\n",
    "    response = lambda_client.create_function(\n",
    "        FunctionName=lambda_function_name,\n",
    "        Runtime='python3.12',  # Runtime atualizado para Python 3.12\n",
    "        Role=role_arn,\n",
    "        Handler='s3_upload_lambda.lambda_handler',  # Altere para o handler correto\n",
    "        Code={\n",
    "            'S3Bucket': bucket_lambda_code_name,\n",
    "            'S3Key': s3_lambda_key\n",
    "        },\n",
    "        Layers=[layer_version_arn],  # Associar a layer\n",
    "        Timeout=30,\n",
    "        MemorySize=128,\n",
    "        Environment={\n",
    "            'Variables': {\n",
    "                'SOURCE_BUCKET': bucket_imagens_name  # Bucket para salvar as imagens\n",
    "            }\n",
    "        }\n",
    "    )\n",
    "    lambda_arn = response['FunctionArn']\n",
    "    print(\n",
    "        f\"Função Lambda '{lambda_function_name}' criada com sucesso. ARN: {lambda_arn}\")\n",
    "except Exception as e:\n",
    "    print(f\"Erro ao criar a função Lambda: {e}\")"
   ]
  },
  {
   "cell_type": "markdown",
   "metadata": {},
   "source": [
    "## Próximos passos\n",
    "\n",
    "Após criar a função Lambda, você pode testá-la no Console da AWS Lambda ou usando o SDK da AWS.\n",
    "\n",
    "Se precisar adicionar mais dependências, você pode incluí-las na layer ou no próprio pacote ZIP da Lambda."
   ]
  },
  {
   "cell_type": "markdown",
   "metadata": {},
   "source": [
    "## 2. Migrando do Jupyter Notebook para Arquivos .py\n",
    "\n",
    "### a. Exportar o Notebook para .py\n",
    "\n",
    "No Jupyter Notebook, vá em **File > Download as > Python (.py)**.\n",
    "\n",
    "Isso gerará um arquivo `.py` com todo o código do notebook.\n",
    "\n",
    "### b. Dividir o Código\n",
    "\n",
    "Separe o código em arquivos menores, conforme a funcionalidade (como sugerido acima).\n",
    "\n",
    "Por exemplo, o código para criar a infraestrutura (buckets, políticas, roles) pode ir no `infra.py`.\n",
    "\n",
    "### c. Exemplo de Estrutura de Projeto\n"
   ]
  },
  {
   "cell_type": "markdown",
   "metadata": {},
   "source": [
    "## 3. Executando o Projeto\n",
    "\n",
    "### a. Execução Única\n",
    "\n",
    "Se você quiser executar tudo de uma vez, crie um script principal (`main.py`) que chama os outros scripts na ordem correta.\n",
    "\n",
    "**Exemplo de `main.py`:**\n",
    "\n",
    "```python\n",
    "from infra import criar_infraestrutura\n",
    "from lambda_functions import criar_lambdas\n",
    "from api_gateway import criar_api_gateway\n",
    "from step_functions import criar_step_functions\n",
    "\n",
    "if __name__ == \"__main__\":\n",
    "    # Cria a infraestrutura (buckets, políticas, roles)\n",
    "    criar_infraestrutura()\n",
    "\n",
    "    # Cria as funções Lambda\n",
    "    criar_lambdas()\n",
    "\n",
    "    # Cria o API Gateway\n",
    "    criar_api_gateway()\n",
    "\n",
    "    # Cria a State Machine do Step Functions\n",
    "    criar_step_functions()\n",
    "\n",
    "    print(\"Todos os recursos foram criados com sucesso!\")"
   ]
  }
 ],
 "metadata": {
  "kernelspec": {
   "display_name": "Python 3",
   "language": "python",
   "name": "python3"
  },
  "language_info": {
   "codemirror_mode": {
    "name": "ipython",
    "version": 3
   },
   "file_extension": ".py",
   "mimetype": "text/x-python",
   "name": "python",
   "nbconvert_exporter": "python",
   "pygments_lexer": "ipython3",
   "version": "3.13.2"
  }
 },
 "nbformat": 4,
 "nbformat_minor": 2
}
